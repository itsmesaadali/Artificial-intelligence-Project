{
  "nbformat": 4,
  "nbformat_minor": 0,
  "metadata": {
    "colab": {
      "provenance": [],
      "toc_visible": true,
      "authorship_tag": "ABX9TyMrLM1fcAO+gPC/xZr9R7ab",
      "include_colab_link": true
    },
    "kernelspec": {
      "name": "python3",
      "display_name": "Python 3"
    },
    "language_info": {
      "name": "python"
    }
  },
  "cells": [
    {
      "cell_type": "markdown",
      "metadata": {
        "id": "view-in-github",
        "colab_type": "text"
      },
      "source": [
        "<a href=\"https://colab.research.google.com/github/itsmesaadali/Artificial-intelligence-Project/blob/main/Lab_Task_5.ipynb\" target=\"_parent\"><img src=\"https://colab.research.google.com/assets/colab-badge.svg\" alt=\"Open In Colab\"/></a>"
      ]
    },
    {
      "cell_type": "markdown",
      "source": [
        "# Al LAB 5"
      ],
      "metadata": {
        "id": "tvp7PsW7IM8c"
      }
    },
    {
      "cell_type": "markdown",
      "source": [
        "Implement Depth-first search (DFS)"
      ],
      "metadata": {
        "id": "sjY6Nhw_JoUi"
      }
    },
    {
      "cell_type": "code",
      "execution_count": null,
      "metadata": {
        "colab": {
          "base_uri": "https://localhost:8080/"
        },
        "id": "7tc0Cv4zH2bh",
        "outputId": "22341d83-ce7c-419d-8cad-c9dcc391ed58"
      },
      "outputs": [
        {
          "output_type": "stream",
          "name": "stdout",
          "text": [
            "DFS Traversal Order: [0, 1, 2, 3, 4]\n"
          ]
        }
      ],
      "source": [
        "# Graph represented as adjacency list\n",
        "graph = {\n",
        "    0: [1, 2, 3],\n",
        "    1: [0],\n",
        "    2: [0, 3, 4],\n",
        "    3: [0, 2],\n",
        "    4: [2],\n",
        "    # You can add more nodes like 5, 6 if your graph has them\n",
        "}\n",
        "\n",
        "def dfs(start, visited=None, traversal=None):\n",
        "    if visited is None:\n",
        "        visited = set()\n",
        "    if traversal is None:\n",
        "        traversal = []\n",
        "\n",
        "    visited.add(start)\n",
        "    traversal.append(start)\n",
        "\n",
        "    for neighbor in graph.get(start, []):\n",
        "        if neighbor not in visited:\n",
        "            dfs(neighbor, visited, traversal)\n",
        "\n",
        "    return traversal\n",
        "\n",
        "# Example run\n",
        "dfs_order = dfs(0)\n",
        "print(\"DFS Traversal Order:\", dfs_order)"
      ]
    },
    {
      "cell_type": "markdown",
      "source": [
        "Implement Breadth-first search (BFS)"
      ],
      "metadata": {
        "id": "2VdQ_3_CPOXJ"
      }
    },
    {
      "cell_type": "code",
      "source": [
        "from collections import deque\n",
        "\n",
        "# Graph represented as adjacency list\n",
        "graph = {\n",
        "    0: [1, 2, 3],\n",
        "    1: [0],\n",
        "    2: [0, 3, 4],\n",
        "    3: [0, 2],\n",
        "    4: [2],\n",
        "    # You can add more nodes like 5, 6 if your graph has them\n",
        "}\n",
        "\n",
        "def bfs(start):\n",
        "    visited = set()\n",
        "    queue = deque([start])\n",
        "    traversal = []\n",
        "\n",
        "    while queue:\n",
        "        node = queue.popleft()\n",
        "        if node not in visited:\n",
        "            visited.add(node)\n",
        "            traversal.append(node)\n",
        "            for neighbor in graph.get(node, []):\n",
        "                if neighbor not in visited:\n",
        "                    queue.append(neighbor)\n",
        "\n",
        "    return traversal\n",
        "\n",
        "# Example run\n",
        "bfs_order = bfs(0)\n",
        "print(\"BFS Traversal Order:\", bfs_order)"
      ],
      "metadata": {
        "colab": {
          "base_uri": "https://localhost:8080/"
        },
        "id": "__epf8bpPJjE",
        "outputId": "5e7b64f7-2d1f-42f8-a5cb-488ed2673691"
      },
      "execution_count": null,
      "outputs": [
        {
          "output_type": "stream",
          "name": "stdout",
          "text": [
            "BFS Traversal Order: [0, 1, 2, 3, 4]\n"
          ]
        }
      ]
    }
  ]
}