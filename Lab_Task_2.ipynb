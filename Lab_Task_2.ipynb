{
  "nbformat": 4,
  "nbformat_minor": 0,
  "metadata": {
    "colab": {
      "provenance": [],
      "authorship_tag": "ABX9TyMiCR72QgZvUoqpOCyY35Q0",
      "include_colab_link": true
    },
    "kernelspec": {
      "name": "python3",
      "display_name": "Python 3"
    },
    "language_info": {
      "name": "python"
    }
  },
  "cells": [
    {
      "cell_type": "markdown",
      "metadata": {
        "id": "view-in-github",
        "colab_type": "text"
      },
      "source": [
        "<a href=\"https://colab.research.google.com/github/itsmesaadali/Artificial-intelligence-Project/blob/main/Lab_Task_2.ipynb\" target=\"_parent\"><img src=\"https://colab.research.google.com/assets/colab-badge.svg\" alt=\"Open In Colab\"/></a>"
      ]
    },
    {
      "cell_type": "markdown",
      "source": [
        "# AI Lab No 2"
      ],
      "metadata": {
        "id": "ndyxbea8KExI"
      }
    },
    {
      "cell_type": "markdown",
      "source": [
        "1. append() - Adds an element at the end of the list"
      ],
      "metadata": {
        "id": "IC05-b_dKPEH"
      }
    },
    {
      "cell_type": "code",
      "execution_count": null,
      "metadata": {
        "colab": {
          "base_uri": "https://localhost:8080/"
        },
        "id": "tAlxJQfyJ9hI",
        "outputId": "1cd421a0-9d38-42b3-dedf-76a2f3642619"
      },
      "outputs": [
        {
          "output_type": "stream",
          "name": "stdout",
          "text": [
            "['Yellow', 'Green', 'Orange', 'Blue', 'Black', 'White', 'Red', 'Pink', 'Purple', 'Gray']\n",
            "['Yellow', 'Green', 'Orange', 'Blue', 'Black', 'White', 'Red', 'Pink', 'Purple', 'Gray', 'Voilet']\n"
          ]
        }
      ],
      "source": [
        "color_lists = ['Yellow', 'Green', 'Orange', 'Blue', 'Black', 'White', 'Red', 'Pink', 'Purple','Gray']\n",
        "print(color_lists)\n",
        "\n",
        "color_lists.append('Voilet')\n",
        "print(color_lists)"
      ]
    },
    {
      "cell_type": "markdown",
      "source": [
        "2. clear() - Removes all the elements from the list"
      ],
      "metadata": {
        "id": "ANRriKQlLKYZ"
      }
    },
    {
      "cell_type": "code",
      "source": [
        "color_lists = ['Yellow', 'Green', 'Orange', 'Blue', 'Black', 'White', 'Red', 'Pink', 'Purple','Gray']\n",
        "print(color_lists)\n",
        "\n",
        "color_lists.clear()\n",
        "print(color_lists)"
      ],
      "metadata": {
        "colab": {
          "base_uri": "https://localhost:8080/"
        },
        "id": "zaBcAxMZLGVs",
        "outputId": "3c93e028-b864-41c1-891b-794616e599c9"
      },
      "execution_count": null,
      "outputs": [
        {
          "output_type": "stream",
          "name": "stdout",
          "text": [
            "['Yellow', 'Green', 'Orange', 'Blue', 'Black', 'White', 'Red', 'Pink', 'Purple', 'Gray']\n",
            "[]\n"
          ]
        }
      ]
    },
    {
      "cell_type": "markdown",
      "source": [
        "3. copy() - Returns a copy of the list"
      ],
      "metadata": {
        "id": "5kSKZF15LbjD"
      }
    },
    {
      "cell_type": "code",
      "source": [
        "color_lists = ['Yellow', 'Green', 'Orange', 'Blue', 'Black', 'White', 'Red', 'Pink', 'Purple','Gray']\n",
        "print(color_lists)\n",
        "color_lists_copy = color_lists.copy()\n",
        "print(color_lists_copy)"
      ],
      "metadata": {
        "colab": {
          "base_uri": "https://localhost:8080/"
        },
        "id": "_Fa4k1MmLa-X",
        "outputId": "2aa57eab-1f7b-4173-c432-bd892d4a9258"
      },
      "execution_count": null,
      "outputs": [
        {
          "output_type": "stream",
          "name": "stdout",
          "text": [
            "['Yellow', 'Green', 'Orange', 'Blue', 'Black', 'White', 'Red', 'Pink', 'Purple', 'Gray']\n",
            "['Yellow', 'Green', 'Orange', 'Blue', 'Black', 'White', 'Red', 'Pink', 'Purple', 'Gray']\n"
          ]
        }
      ]
    },
    {
      "cell_type": "markdown",
      "source": [
        "4. count() - Returns the number of elements with the specified value"
      ],
      "metadata": {
        "id": "eqiZ1-fuL1tf"
      }
    },
    {
      "cell_type": "code",
      "source": [
        "color_lists = ['Yellow', 'Green', 'Orange', 'Blue', 'Black', 'White', 'Red', 'Pink', 'Purple','Gray','White']\n",
        "print(color_lists)\n",
        "color_lists.count('White')"
      ],
      "metadata": {
        "colab": {
          "base_uri": "https://localhost:8080/"
        },
        "id": "OiP29WXcL1OP",
        "outputId": "4caba3ee-227d-4f4b-ca08-43a5fc58740a"
      },
      "execution_count": null,
      "outputs": [
        {
          "output_type": "stream",
          "name": "stdout",
          "text": [
            "['Yellow', 'Green', 'Orange', 'Blue', 'Black', 'White', 'Red', 'Pink', 'Purple', 'Gray', 'White']\n"
          ]
        },
        {
          "output_type": "execute_result",
          "data": {
            "text/plain": [
              "2"
            ]
          },
          "metadata": {},
          "execution_count": 8
        }
      ]
    },
    {
      "cell_type": "markdown",
      "source": [
        "5. extend() - Add the elements of a list (or any iterable), to the end of the current list"
      ],
      "metadata": {
        "id": "QP-bm6obMhXv"
      }
    },
    {
      "cell_type": "code",
      "source": [
        "color_lists = ['Yellow', 'Green', 'Orange', 'Blue', 'Black', 'White', 'Red', 'Pink', 'Purple','Gray','White']\n",
        "print(color_lists)\n",
        "number_list = [1,2,3,4,5,6,7,8,9,10]\n",
        "print(number_list)\n",
        "color_lists.extend(number_list)\n",
        "print(color_lists)"
      ],
      "metadata": {
        "colab": {
          "base_uri": "https://localhost:8080/"
        },
        "id": "MzNdCAvuMhIp",
        "outputId": "a769b562-ac07-48e9-8f77-f27814ff0507"
      },
      "execution_count": null,
      "outputs": [
        {
          "output_type": "stream",
          "name": "stdout",
          "text": [
            "['Yellow', 'Green', 'Orange', 'Blue', 'Black', 'White', 'Red', 'Pink', 'Purple', 'Gray', 'White']\n",
            "[1, 2, 3, 4, 5, 6, 7, 8, 9, 10]\n",
            "['Yellow', 'Green', 'Orange', 'Blue', 'Black', 'White', 'Red', 'Pink', 'Purple', 'Gray', 'White', 1, 2, 3, 4, 5, 6, 7, 8, 9, 10]\n"
          ]
        }
      ]
    },
    {
      "cell_type": "markdown",
      "source": [
        "6. index() - Returns the index of the first element with the specified value"
      ],
      "metadata": {
        "id": "DnGKrt73NLeJ"
      }
    },
    {
      "cell_type": "code",
      "source": [
        "color_lists = ['Yellow', 'Green', 'Orange', 'Blue', 'Black', 'White', 'Red', 'Pink', 'Purple','Gray','White']\n",
        "print(color_lists)\n",
        "print(color_lists.index('White'))"
      ],
      "metadata": {
        "colab": {
          "base_uri": "https://localhost:8080/"
        },
        "id": "AJhF2cHYNKci",
        "outputId": "664a4784-4425-4c0e-92f4-1bbafcb452b7"
      },
      "execution_count": null,
      "outputs": [
        {
          "output_type": "stream",
          "name": "stdout",
          "text": [
            "['Yellow', 'Green', 'Orange', 'Blue', 'Black', 'White', 'Red', 'Pink', 'Purple', 'Gray', 'White']\n",
            "5\n"
          ]
        }
      ]
    },
    {
      "cell_type": "markdown",
      "source": [
        "7. insert() - Adds an element at the specified position"
      ],
      "metadata": {
        "id": "9AJ098r6N4s1"
      }
    },
    {
      "cell_type": "code",
      "source": [
        "color_lists = ['Yellow', 'Green', 'Orange', 'Blue', 'Black', 'White', 'Red', 'Pink', 'Purple','Gray','White']\n",
        "print(color_lists)\n",
        "color_lists.insert(5,'Voilet')\n",
        "print(color_lists)"
      ],
      "metadata": {
        "colab": {
          "base_uri": "https://localhost:8080/"
        },
        "id": "F7eHw3S7N3_O",
        "outputId": "4cfcaed3-1d8c-4115-f244-cb1b9de5d3d2"
      },
      "execution_count": null,
      "outputs": [
        {
          "output_type": "stream",
          "name": "stdout",
          "text": [
            "['Yellow', 'Green', 'Orange', 'Blue', 'Black', 'White', 'Red', 'Pink', 'Purple', 'Gray', 'White']\n",
            "['Yellow', 'Green', 'Orange', 'Blue', 'Black', 'Voilet', 'White', 'Red', 'Pink', 'Purple', 'Gray', 'White']\n"
          ]
        }
      ]
    },
    {
      "cell_type": "markdown",
      "source": [
        "8. pop() - Removes the element at the specified position"
      ],
      "metadata": {
        "id": "HLGx_YTeOJl_"
      }
    },
    {
      "cell_type": "code",
      "source": [
        "color_lists = ['Yellow', 'Green', 'Orange', 'Blue', 'Black', 'White', 'Red', 'Pink', 'Purple','Gray','White']\n",
        "print(color_lists)\n",
        "color_lists.pop()\n",
        "print(color_lists)\n",
        "color_lists.pop(3)\n",
        "print(color_lists)"
      ],
      "metadata": {
        "colab": {
          "base_uri": "https://localhost:8080/"
        },
        "id": "wA0hRaB8OJWO",
        "outputId": "915bf6f2-2ce0-4b2d-f142-e22a8c371f8e"
      },
      "execution_count": null,
      "outputs": [
        {
          "output_type": "stream",
          "name": "stdout",
          "text": [
            "['Yellow', 'Green', 'Orange', 'Blue', 'Black', 'White', 'Red', 'Pink', 'Purple', 'Gray', 'White']\n",
            "['Yellow', 'Green', 'Orange', 'Blue', 'Black', 'White', 'Red', 'Pink', 'Purple', 'Gray']\n",
            "['Yellow', 'Green', 'Orange', 'Black', 'White', 'Red', 'Pink', 'Purple', 'Gray']\n"
          ]
        }
      ]
    },
    {
      "cell_type": "markdown",
      "source": [
        "9. remove() - Removes the item with the specified value"
      ],
      "metadata": {
        "id": "evaQxf83OhvF"
      }
    },
    {
      "cell_type": "code",
      "source": [
        "color_lists = ['Yellow', 'Green', 'Orange', 'Blue', 'Black', 'White', 'Red', 'Pink', 'Purple','Gray','White']\n",
        "print(color_lists)\n",
        "color_lists.remove('Green')\n",
        "print(color_lists)"
      ],
      "metadata": {
        "colab": {
          "base_uri": "https://localhost:8080/"
        },
        "id": "k1CUXyKHOhc4",
        "outputId": "a0124192-3f81-48cd-eb2f-4c619328c76f"
      },
      "execution_count": null,
      "outputs": [
        {
          "output_type": "stream",
          "name": "stdout",
          "text": [
            "['Yellow', 'Green', 'Orange', 'Blue', 'Black', 'White', 'Red', 'Pink', 'Purple', 'Gray', 'White']\n",
            "['Yellow', 'Orange', 'Blue', 'Black', 'White', 'Red', 'Pink', 'Purple', 'Gray', 'White']\n"
          ]
        }
      ]
    },
    {
      "cell_type": "markdown",
      "source": [
        "10. reverse() - Reverses the order of the list"
      ],
      "metadata": {
        "id": "8Y-bG_krOuxf"
      }
    },
    {
      "cell_type": "code",
      "source": [
        "color_lists = ['Yellow', 'Green', 'Orange', 'Blue', 'Black', 'White', 'Red', 'Pink', 'Purple','Gray','White']\n",
        "print(color_lists)\n",
        "color_lists.reverse()\n",
        "print(color_lists)"
      ],
      "metadata": {
        "colab": {
          "base_uri": "https://localhost:8080/"
        },
        "id": "9LiFDBIKOuhi",
        "outputId": "5134412b-dea3-4eba-a2d6-fc220573f2bd"
      },
      "execution_count": null,
      "outputs": [
        {
          "output_type": "stream",
          "name": "stdout",
          "text": [
            "['Yellow', 'Green', 'Orange', 'Blue', 'Black', 'White', 'Red', 'Pink', 'Purple', 'Gray', 'White']\n",
            "['White', 'Gray', 'Purple', 'Pink', 'Red', 'White', 'Black', 'Blue', 'Orange', 'Green', 'Yellow']\n",
            "['Yellow', 'White', 'White', 'Red', 'Purple', 'Pink', 'Orange', 'Green', 'Gray', 'Blue', 'Black']\n"
          ]
        }
      ]
    },
    {
      "cell_type": "markdown",
      "source": [
        "11. sort() - Sorts the list"
      ],
      "metadata": {
        "id": "w9-b1pzLPlD7"
      }
    },
    {
      "cell_type": "code",
      "source": [
        "color_lists = ['Yellow', 'Green', 'Orange', 'Blue', 'Black', 'White', 'Red', 'Pink', 'Purple','Gray','White']\n",
        "print(color_lists)\n",
        "color_lists.sort()\n",
        "print(color_lists)\n",
        "color_lists.sort(reverse=True)\n",
        "print(color_lists)"
      ],
      "metadata": {
        "colab": {
          "base_uri": "https://localhost:8080/"
        },
        "id": "My-4RcN2PXED",
        "outputId": "7015ebab-85a9-4c30-c6f5-320ee16d34fd"
      },
      "execution_count": null,
      "outputs": [
        {
          "output_type": "stream",
          "name": "stdout",
          "text": [
            "['Yellow', 'Green', 'Orange', 'Blue', 'Black', 'White', 'Red', 'Pink', 'Purple', 'Gray', 'White']\n",
            "['Black', 'Blue', 'Gray', 'Green', 'Orange', 'Pink', 'Purple', 'Red', 'White', 'White', 'Yellow']\n",
            "['Yellow', 'White', 'White', 'Red', 'Purple', 'Pink', 'Orange', 'Green', 'Gray', 'Blue', 'Black']\n"
          ]
        }
      ]
    }
  ]
}