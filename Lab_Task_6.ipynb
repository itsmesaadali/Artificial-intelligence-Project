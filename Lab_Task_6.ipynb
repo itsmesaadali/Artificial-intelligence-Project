{
  "nbformat": 4,
  "nbformat_minor": 0,
  "metadata": {
    "colab": {
      "provenance": [],
      "toc_visible": true,
      "authorship_tag": "ABX9TyMTuU2SEYgOaFG7Q5ltFmE3",
      "include_colab_link": true
    },
    "kernelspec": {
      "name": "python3",
      "display_name": "Python 3"
    },
    "language_info": {
      "name": "python"
    }
  },
  "cells": [
    {
      "cell_type": "markdown",
      "metadata": {
        "id": "view-in-github",
        "colab_type": "text"
      },
      "source": [
        "<a href=\"https://colab.research.google.com/github/itsmesaadali/Artificial-intelligence-Project/blob/main/Lab_Task_6.ipynb\" target=\"_parent\"><img src=\"https://colab.research.google.com/assets/colab-badge.svg\" alt=\"Open In Colab\"/></a>"
      ]
    },
    {
      "cell_type": "markdown",
      "source": [
        "# Task 1"
      ],
      "metadata": {
        "id": "i4IX2EqwNJAM"
      }
    },
    {
      "cell_type": "markdown",
      "source": [
        "Update puzzle values, size, and analyze the code"
      ],
      "metadata": {
        "id": "OyMoHPOgNQuJ"
      }
    },
    {
      "cell_type": "code",
      "execution_count": 3,
      "metadata": {
        "colab": {
          "base_uri": "https://localhost:8080/"
        },
        "id": "7BQR9qp6M_Lh",
        "outputId": "a7effe6c-66ee-4b2e-c9d2-81af5dba8823"
      },
      "outputs": [
        {
          "output_type": "stream",
          "name": "stdout",
          "text": [
            "[[1, 2, 3], [4, 0, 6], [7, 5, 8]]\n",
            "[[1, 2, 3], [4, 5, 6], [7, 0, 8]]\n",
            "[[1, 2, 3], [4, 5, 6], [7, 8, 0]]\n"
          ]
        }
      ],
      "source": [
        "import heapq\n",
        "\n",
        "class PuzzleState:\n",
        "    def __init__(self, board, goal, g=0, parent=None):\n",
        "        self.board = board\n",
        "        self.goal = goal\n",
        "        self.g = g\n",
        "        self.h = self.heuristic()\n",
        "        self.f = self.g + self.h\n",
        "        self.parent = parent\n",
        "\n",
        "    def heuristic(self):\n",
        "        # Manhattan Distance\n",
        "        h = 0\n",
        "        for i in range(len(self.board)):\n",
        "            for j in range(len(self.board[i])):\n",
        "                value = self.board[i][j]\n",
        "                if value != 0:  # 0 represents empty tile\n",
        "                    goal_x, goal_y = divmod(self.goal.index(value), len(self.board))\n",
        "                    h += abs(goal_x - i) + abs(goal_y - j)\n",
        "        return h\n",
        "\n",
        "    def get_neighbors(self):\n",
        "        neighbors = []\n",
        "        x, y = next((i, j) for i, row in enumerate(self.board) for j, v in enumerate(row) if v == 0)\n",
        "        moves = [(1,0), (-1,0), (0,1), (0,-1)]\n",
        "        for dx, dy in moves:\n",
        "            nx, ny = x + dx, y + dy\n",
        "            if 0 <= nx < len(self.board) and 0 <= ny < len(self.board):\n",
        "                new_board = [row[:] for row in self.board]\n",
        "                new_board[x][y], new_board[nx][ny] = new_board[nx][ny], new_board[x][y]\n",
        "                neighbors.append(PuzzleState(new_board, self.goal, self.g+1, self))\n",
        "        return neighbors\n",
        "\n",
        "    def __lt__(self, other):\n",
        "        return self.f < other.f\n",
        "\n",
        "def a_star(start, goal):\n",
        "    open_set = []\n",
        "    heapq.heappush(open_set, start)\n",
        "    visited = set()\n",
        "\n",
        "    while open_set:\n",
        "        current = heapq.heappop(open_set)\n",
        "        if current.board == goal:\n",
        "            return current\n",
        "        visited.add(tuple(map(tuple, current.board)))\n",
        "        for neighbor in current.get_neighbors():\n",
        "            if tuple(map(tuple, neighbor.board)) not in visited:\n",
        "                heapq.heappush(open_set, neighbor)\n",
        "    return None\n",
        "\n",
        "# Example 3x3 Puzzle\n",
        "start_board = [[1, 2, 3],\n",
        "               [4, 0, 6],\n",
        "               [7, 5, 8]]\n",
        "\n",
        "goal_board = [[1, 2, 3],\n",
        "              [4, 5, 6],\n",
        "              [7, 8, 0]]\n",
        "\n",
        "solution = a_star(PuzzleState(start_board, sum(goal_board, [])), goal_board)\n",
        "\n",
        "if solution:\n",
        "    path = []\n",
        "    while solution:\n",
        "        path.append(solution.board)\n",
        "        solution = solution.parent\n",
        "    path.reverse()\n",
        "    for step in path:\n",
        "        print(step)\n",
        "else:\n",
        "    print(\"No solution found\")\n"
      ]
    },
    {
      "cell_type": "markdown",
      "source": [
        " Implement A* example other than above example. i.e shortest path of graphs, maps, games."
      ],
      "metadata": {
        "id": "6JuI93LKNmyy"
      }
    },
    {
      "cell_type": "code",
      "source": [
        "import heapq\n",
        "\n",
        "def a_star_graph(graph, start, goal, heuristic):\n",
        "    pq = []\n",
        "    heapq.heappush(pq, (0, start))\n",
        "    g = {start: 0}\n",
        "    parent = {start: None}\n",
        "\n",
        "    while pq:\n",
        "        f, node = heapq.heappop(pq)\n",
        "        if node == goal:\n",
        "            path = []\n",
        "            while node:\n",
        "                path.append(node)\n",
        "                node = parent[node]\n",
        "            return path[::-1]\n",
        "\n",
        "        for neighbor, cost in graph[node].items():\n",
        "            new_g = g[node] + cost\n",
        "            if neighbor not in g or new_g < g[neighbor]:\n",
        "                g[neighbor] = new_g\n",
        "                f = new_g + heuristic(neighbor, goal)\n",
        "                heapq.heappush(pq, (f, neighbor))\n",
        "                parent[neighbor] = node\n",
        "    return None\n",
        "\n",
        "# Example Graph\n",
        "graph = {\n",
        "    'A': {'B': 1, 'C': 4},\n",
        "    'B': {'A': 1, 'D': 2, 'E': 5},\n",
        "    'C': {'A': 4, 'F': 3},\n",
        "    'D': {'B': 2, 'G': 1},\n",
        "    'E': {'B': 5, 'G': 2},\n",
        "    'F': {'C': 3, 'G': 2},\n",
        "    'G': {}\n",
        "}\n",
        "\n",
        "heuristic = lambda n, g: 0  # can add Euclidean or Manhattan for better estimates\n",
        "print(\"Path:\", a_star_graph(graph, 'A', 'G', heuristic))\n"
      ],
      "metadata": {
        "colab": {
          "base_uri": "https://localhost:8080/"
        },
        "id": "CugkdGHvNrUF",
        "outputId": "ab7a8f85-35a8-4f4c-eb97-775bd667d6da"
      },
      "execution_count": 4,
      "outputs": [
        {
          "output_type": "stream",
          "name": "stdout",
          "text": [
            "Path: ['A', 'B', 'D', 'G']\n"
          ]
        }
      ]
    }
  ]
}