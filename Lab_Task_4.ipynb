{
  "nbformat": 4,
  "nbformat_minor": 0,
  "metadata": {
    "colab": {
      "provenance": [],
      "authorship_tag": "ABX9TyOB3RA2pxoYsva8bkIposhP",
      "include_colab_link": true
    },
    "kernelspec": {
      "name": "python3",
      "display_name": "Python 3"
    },
    "language_info": {
      "name": "python"
    }
  },
  "cells": [
    {
      "cell_type": "markdown",
      "metadata": {
        "id": "view-in-github",
        "colab_type": "text"
      },
      "source": [
        "<a href=\"https://colab.research.google.com/github/itsmesaadali/Artificial-intelligence-Project/blob/main/Lab_Task_4.ipynb\" target=\"_parent\"><img src=\"https://colab.research.google.com/assets/colab-badge.svg\" alt=\"Open In Colab\"/></a>"
      ]
    },
    {
      "cell_type": "markdown",
      "source": [
        "# AI Lab no 4"
      ],
      "metadata": {
        "id": "PCtKKnnGFLQI"
      }
    },
    {
      "cell_type": "markdown",
      "source": [
        "Task 1: NumPy array split & sum"
      ],
      "metadata": {
        "id": "r7qHtkCsFXlh"
      }
    },
    {
      "cell_type": "code",
      "execution_count": null,
      "metadata": {
        "colab": {
          "base_uri": "https://localhost:8080/"
        },
        "id": "ZlRwthM8FHpR",
        "outputId": "832d81fc-54b9-412c-9eed-6685b8be0e47"
      },
      "outputs": [
        {
          "output_type": "stream",
          "name": "stdout",
          "text": [
            "Split Arrays: [array([1, 2, 3]), array([4, 5, 6]), array([7, 8, 9])]\n",
            "Total Sum: 45\n"
          ]
        }
      ],
      "source": [
        "import numpy as np\n",
        "\n",
        "# Create a numpy array\n",
        "arr = np.array([1, 2, 3, 4, 5, 6, 7, 8, 9])\n",
        "\n",
        "# Split into 3 arrays\n",
        "split_arrays = np.array_split(arr, 3)\n",
        "\n",
        "# Print arrays\n",
        "print(\"Split Arrays:\", split_arrays)\n",
        "\n",
        "# Calculate sum of all arrays\n",
        "total_sum = sum([a.sum() for a in split_arrays])\n",
        "print(\"Total Sum:\", total_sum)\n"
      ]
    },
    {
      "cell_type": "markdown",
      "source": [
        "Task 2: Extract numbers > 5 and < 15"
      ],
      "metadata": {
        "id": "fg5ygdsKFYF8"
      }
    },
    {
      "cell_type": "code",
      "source": [
        "arr = np.array([2, 5, 6, 8, 12, 15, 18, 20])\n",
        "\n",
        "# Condition filter\n",
        "filtered = arr[(arr > 5) & (arr < 15)]\n",
        "print(\"Numbers > 5 and < 15:\", filtered)\n"
      ],
      "metadata": {
        "colab": {
          "base_uri": "https://localhost:8080/"
        },
        "id": "7w2G9m5wFXO0",
        "outputId": "efb1026c-c825-404a-92f2-71f4033fb690"
      },
      "execution_count": null,
      "outputs": [
        {
          "output_type": "stream",
          "name": "stdout",
          "text": [
            "Numbers > 5 and < 15: [ 6  8 12]\n"
          ]
        }
      ]
    },
    {
      "cell_type": "markdown",
      "source": [
        "Task 3: Sets operation"
      ],
      "metadata": {
        "id": "gM9Q_KhLFYiF"
      }
    },
    {
      "cell_type": "code",
      "source": [
        "# Create sets\n",
        "set1 = {0, 2, 4, 6, 8, 10}   # Even numbers (0~10)\n",
        "set2 = set(range(1, 11))     # Positive integers (1~10) using constructor\n",
        "\n",
        "print(\"Set1:\", set1)\n",
        "print(\"Set2 before:\", set2)\n",
        "\n",
        "# (a) Remove 2nd and 5th element from set2\n",
        "# Convert to list to remove by index\n",
        "set2_list = list(set2)\n",
        "set2_list.pop(1)   # Remove 2nd element\n",
        "set2_list.pop(3)   # Remove 5th element (after first removal, index shifts)\n",
        "set2 = set(set2_list)\n",
        "\n",
        "print(\"Set2 after removal:\", set2)\n",
        "\n",
        "# (b) Intersection\n",
        "set3 = set1.intersection(set2)\n",
        "print(\"Set3 (Intersection):\", set3)\n"
      ],
      "metadata": {
        "colab": {
          "base_uri": "https://localhost:8080/"
        },
        "id": "0_4ddgkdFXDX",
        "outputId": "42202684-3c7b-4a2b-b04a-8efb8aae609b"
      },
      "execution_count": null,
      "outputs": [
        {
          "output_type": "stream",
          "name": "stdout",
          "text": [
            "Set1: {0, 2, 4, 6, 8, 10}\n",
            "Set2 before: {1, 2, 3, 4, 5, 6, 7, 8, 9, 10}\n",
            "Set2 after removal: {1, 3, 4, 6, 7, 8, 9, 10}\n",
            "Set3 (Intersection): {8, 10, 4, 6}\n"
          ]
        }
      ]
    },
    {
      "cell_type": "markdown",
      "source": [
        "Task 4: Dictionary of Students"
      ],
      "metadata": {
        "id": "qJIEQeKtFY72"
      }
    },
    {
      "cell_type": "code",
      "source": [
        "# Create dictionary\n",
        "students = {\n",
        "    101: {\"sapid\": 101, \"name\": \"Ali\", \"age\": 20, \"semester\": \"Six\"},\n",
        "    102: {\"sapid\": 102, \"name\": \"Sara\", \"age\": 21, \"semester\": \"Six\"},\n",
        "    103: {\"sapid\": 103, \"name\": \"Ahmed\", \"age\": 22, \"semester\": \"Six\"},\n",
        "    104: {\"sapid\": 104, \"name\": \"Noor\", \"age\": 20, \"semester\": \"Six\"},\n",
        "    105: {\"sapid\": 105, \"name\": \"Zara\", \"age\": 23, \"semester\": \"Six\"},\n",
        "}\n",
        "\n",
        "print(\"Before Update:\", students)\n",
        "\n",
        "# Update Semester (Six -> Seven)\n",
        "for s in students.values():\n",
        "    if s[\"semester\"] == \"Six\":\n",
        "        s[\"semester\"] = \"Seven\"\n",
        "\n",
        "print(\"After Update:\", students)\n"
      ],
      "metadata": {
        "colab": {
          "base_uri": "https://localhost:8080/"
        },
        "id": "zf1h2T9DFWxa",
        "outputId": "4d36d36b-0b03-4f22-f485-7f4ad5c6a327"
      },
      "execution_count": null,
      "outputs": [
        {
          "output_type": "stream",
          "name": "stdout",
          "text": [
            "Before Update: {101: {'sapid': 101, 'name': 'Ali', 'age': 20, 'semester': 'Six'}, 102: {'sapid': 102, 'name': 'Sara', 'age': 21, 'semester': 'Six'}, 103: {'sapid': 103, 'name': 'Ahmed', 'age': 22, 'semester': 'Six'}, 104: {'sapid': 104, 'name': 'Noor', 'age': 20, 'semester': 'Six'}, 105: {'sapid': 105, 'name': 'Zara', 'age': 23, 'semester': 'Six'}}\n",
            "After Update: {101: {'sapid': 101, 'name': 'Ali', 'age': 20, 'semester': 'Seven'}, 102: {'sapid': 102, 'name': 'Sara', 'age': 21, 'semester': 'Seven'}, 103: {'sapid': 103, 'name': 'Ahmed', 'age': 22, 'semester': 'Seven'}, 104: {'sapid': 104, 'name': 'Noor', 'age': 20, 'semester': 'Seven'}, 105: {'sapid': 105, 'name': 'Zara', 'age': 23, 'semester': 'Seven'}}\n"
          ]
        }
      ]
    }
  ]
}