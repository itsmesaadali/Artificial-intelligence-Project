{
  "nbformat": 4,
  "nbformat_minor": 0,
  "metadata": {
    "colab": {
      "provenance": [],
      "authorship_tag": "ABX9TyP/QTK+pKkom+AI+38b8dGJ",
      "include_colab_link": true
    },
    "kernelspec": {
      "name": "python3",
      "display_name": "Python 3"
    },
    "language_info": {
      "name": "python"
    }
  },
  "cells": [
    {
      "cell_type": "markdown",
      "metadata": {
        "id": "view-in-github",
        "colab_type": "text"
      },
      "source": [
        "<a href=\"https://colab.research.google.com/github/itsmesaadali/Artificial-intelligence-Project/blob/main/SaadAli_56673.ipynb\" target=\"_parent\"><img src=\"https://colab.research.google.com/assets/colab-badge.svg\" alt=\"Open In Colab\"/></a>"
      ]
    },
    {
      "cell_type": "markdown",
      "source": [
        "# AI Lab Task 01:"
      ],
      "metadata": {
        "id": "Y-kXSc5rJ-bg"
      }
    },
    {
      "cell_type": "markdown",
      "source": [
        "**Arithmetic Operators:**\n",
        "\n",
        "Different types of arthmetic operators like:\n",
        "\n",
        "> Add ' + '\n",
        "\n",
        "\n",
        "> Sub ' - '\n",
        "\n",
        "> Multipy ' x '\n",
        "\n",
        "\n",
        "> Division ' / '\n",
        "\n",
        "\n",
        "> Midulus ' % '\n",
        "\n",
        "\n",
        "\n",
        "\n",
        "\n",
        "\n",
        "\n",
        "\n",
        "\n",
        "\n",
        "\n",
        "\n"
      ],
      "metadata": {
        "id": "zERPaLmRKJpi"
      }
    },
    {
      "cell_type": "code",
      "source": [
        "a = 10\n",
        "b = 5\n",
        "\n",
        "print(\"Addition:\", a + b)\n",
        "print(\"Subtraction:\", a - b)\n",
        "print(\"Multiplication:\", a * b)\n",
        "print(\"Division:\", a / b)\n",
        "print(\"Modulus:\", a % b)"
      ],
      "metadata": {
        "colab": {
          "base_uri": "https://localhost:8080/"
        },
        "id": "pTufbpfULV0y",
        "outputId": "ce6879d5-63cd-4047-b3fd-070d6365ec71"
      },
      "execution_count": null,
      "outputs": [
        {
          "output_type": "stream",
          "name": "stdout",
          "text": [
            "Addition: 15\n",
            "Subtraction: 5\n",
            "Multiplication: 50\n",
            "Division: 2.0\n",
            "Modulus: 0\n"
          ]
        }
      ]
    },
    {
      "cell_type": "markdown",
      "source": [
        "**Assignmet Operator:**\n",
        "\n",
        "\n",
        "> Equal Sign ' = '\n",
        "\n",
        "> Add and Assign ' += '\n",
        "\n",
        "> Sub and Assign ' -= '\n",
        "\n",
        "> Multiply and Assign ' *= '\n",
        "\n",
        "> Division and Assign ' /= '\n",
        "\n",
        "> Modlus and Assign ' %= '\n",
        "\n",
        "> Power and Assign ' **= '\n",
        "\n",
        "\n",
        "\n",
        "\n",
        "\n",
        "\n",
        "\n",
        "\n",
        "\n",
        "\n",
        "\n",
        "\n",
        "\n",
        "\n",
        "\n"
      ],
      "metadata": {
        "id": "EzugWwEUMPrF"
      }
    },
    {
      "cell_type": "code",
      "source": [
        "print('a = b: is an assignment operator')"
      ],
      "metadata": {
        "colab": {
          "base_uri": "https://localhost:8080/"
        },
        "id": "bb0s_rK1MseN",
        "outputId": "727425a7-77c6-49c9-dd84-cd8861b87066"
      },
      "execution_count": null,
      "outputs": [
        {
          "output_type": "stream",
          "name": "stdout",
          "text": [
            "a = b: is an assignment operator\n"
          ]
        }
      ]
    },
    {
      "cell_type": "code",
      "source": [
        "a=int(input('Enter the value: '))\n",
        "a+=15\n",
        "print('The lastest value of a with add 15:', a)"
      ],
      "metadata": {
        "colab": {
          "base_uri": "https://localhost:8080/"
        },
        "id": "MAbg86d-N_Je",
        "outputId": "23a1b10d-81fe-4d93-a527-a407e952ecf8"
      },
      "execution_count": null,
      "outputs": [
        {
          "output_type": "stream",
          "name": "stdout",
          "text": [
            "Enter the value: 12\n",
            "The lastest value of a with add 15: 27\n"
          ]
        }
      ]
    },
    {
      "cell_type": "code",
      "source": [
        "a=int(input('Enter the value: '))\n",
        "a-=15\n",
        "print('The lastest value of a with sub 15:', a)"
      ],
      "metadata": {
        "colab": {
          "base_uri": "https://localhost:8080/"
        },
        "id": "HC1kfUhTOACw",
        "outputId": "f5b8d462-610a-4885-eb1a-1c64ac9a4540"
      },
      "execution_count": null,
      "outputs": [
        {
          "output_type": "stream",
          "name": "stdout",
          "text": [
            "Enter the value: 12\n",
            "The lastest value of a with sub 15: -3\n"
          ]
        }
      ]
    },
    {
      "cell_type": "code",
      "source": [
        "a=int(input('Enter the value: '))\n",
        "a*=15\n",
        "print('The lastest value of a with multiply 15:', a)"
      ],
      "metadata": {
        "colab": {
          "base_uri": "https://localhost:8080/"
        },
        "id": "5PPbhGrwODD9",
        "outputId": "d5db0d63-30ec-48c0-f0e6-42a91ed1ee96"
      },
      "execution_count": null,
      "outputs": [
        {
          "output_type": "stream",
          "name": "stdout",
          "text": [
            "Enter the value: 12\n",
            "The lastest value of a with multiply 15: 180\n"
          ]
        }
      ]
    },
    {
      "cell_type": "code",
      "source": [
        "a=int(input('Enter the value: '))\n",
        "a/=15\n",
        "print('The lastest value of a with division 15:', a)"
      ],
      "metadata": {
        "colab": {
          "base_uri": "https://localhost:8080/"
        },
        "id": "ckb82LaZODzV",
        "outputId": "880fa126-ef53-4806-ed6e-06d2b23c6176"
      },
      "execution_count": null,
      "outputs": [
        {
          "output_type": "stream",
          "name": "stdout",
          "text": [
            "Enter the value: 12\n",
            "The lastest value of a with division 15: 0.8\n"
          ]
        }
      ]
    },
    {
      "cell_type": "code",
      "source": [
        "a=int(input('Enter the value: '))\n",
        "a%=15\n",
        "print('The lastest value of a with modlus 15:', a)"
      ],
      "metadata": {
        "colab": {
          "base_uri": "https://localhost:8080/"
        },
        "id": "UNJtT9t4OEtZ",
        "outputId": "f51f0d72-0681-4d01-b67f-d49f8827d835"
      },
      "execution_count": null,
      "outputs": [
        {
          "output_type": "stream",
          "name": "stdout",
          "text": [
            "Enter the value: 12\n",
            "The lastest value of a with modlus 15: 12\n"
          ]
        }
      ]
    },
    {
      "cell_type": "code",
      "source": [
        "a=int(input('Enter the value: '))\n",
        "a**=15\n",
        "print('The lastest value of a with power 15:', a)"
      ],
      "metadata": {
        "colab": {
          "base_uri": "https://localhost:8080/"
        },
        "id": "jcwTDRGYOc-S",
        "outputId": "91d2581e-5891-46f7-f39a-08f25e4a9798"
      },
      "execution_count": null,
      "outputs": [
        {
          "output_type": "stream",
          "name": "stdout",
          "text": [
            "Enter the value: 12\n",
            "The lastest value of a with power 15: 15407021574586368\n"
          ]
        }
      ]
    },
    {
      "cell_type": "markdown",
      "source": [
        "**Comparsion Operator:**\n",
        "\n",
        "\n",
        "\n",
        "> Double Equal ' == '\n",
        "\n",
        "\n",
        "> Not Equal   ' != '\n",
        "\n",
        "> Greater Than ' > '\n",
        "\n",
        "> Less Than ' < '\n",
        "\n",
        "\n",
        "\n",
        "> Greater Than Equal ' >= '\n",
        "\n",
        "> Less Than Equal ' <= '\n",
        "\n",
        "\n",
        "\n",
        "\n",
        "\n",
        "\n",
        "\n",
        "\n",
        "\n",
        "\n"
      ],
      "metadata": {
        "id": "xSvbCAmwPsQT"
      }
    },
    {
      "cell_type": "code",
      "source": [
        "a = 10\n",
        "b = 20\n",
        "\n",
        "print(\"Comparison Operators:\")\n",
        "print(\"a == b :\", a == b)   # False"
      ],
      "metadata": {
        "id": "Hq-fFX2jPaAs"
      },
      "execution_count": null,
      "outputs": []
    },
    {
      "cell_type": "code",
      "source": [
        "a = 10\n",
        "b = 20\n",
        "\n",
        "print(\"Comparison Operators:\")\n",
        "print(\"a != b :\", a != b)   # True"
      ],
      "metadata": {
        "id": "t20YimpHP7tY"
      },
      "execution_count": null,
      "outputs": []
    },
    {
      "cell_type": "code",
      "source": [
        "a = 10\n",
        "b = 20\n",
        "\n",
        "print(\"Comparison Operators:\")\n",
        "print(\"a > b  :\", a > b)    # False"
      ],
      "metadata": {
        "id": "jdU9dPUvP7lU"
      },
      "execution_count": null,
      "outputs": []
    },
    {
      "cell_type": "code",
      "source": [
        "a = 10\n",
        "b = 20\n",
        "\n",
        "print(\"Comparison Operators:\")\n",
        "print(\"a < b  :\", a < b)    # True"
      ],
      "metadata": {
        "id": "TnPjoZwUP7fA"
      },
      "execution_count": null,
      "outputs": []
    },
    {
      "cell_type": "code",
      "source": [
        "a = 10\n",
        "b = 20\n",
        "\n",
        "print(\"a >= b :\", a >= b)   # False"
      ],
      "metadata": {
        "id": "gpKp1bSQP7Y5"
      },
      "execution_count": null,
      "outputs": []
    },
    {
      "cell_type": "code",
      "source": [
        "a = 10\n",
        "b = 20\n",
        "\n",
        "print(\"Comparison Operators:\")\n",
        "print(\"a <= b :\", a <= b)   # True)"
      ],
      "metadata": {
        "id": "jo3eusijP7G0"
      },
      "execution_count": null,
      "outputs": []
    },
    {
      "cell_type": "markdown",
      "source": [
        "**Logical Operator:**\n",
        "\n",
        "\n",
        "\n",
        "> And\n",
        "\n",
        "\n",
        "> Or\n",
        "\n",
        "\n",
        ">Not\n",
        "\n",
        "\n",
        "\n",
        "\n",
        "\n"
      ],
      "metadata": {
        "id": "mm-O8JbURLCv"
      }
    },
    {
      "cell_type": "code",
      "source": [
        "a = 10\n",
        "b = 20\n",
        "c = 10\n",
        "\n",
        "print(\"\\nLogical Operators:\")\n",
        "print(\"(a == c and b > a) :\", (a == c and b > a))  # True\n",
        "\n"
      ],
      "metadata": {
        "id": "uyVAJuXmP0zq"
      },
      "execution_count": null,
      "outputs": []
    },
    {
      "cell_type": "code",
      "source": [
        "a = 10\n",
        "b = 20\n",
        "c = 10\n",
        "\n",
        "print(\"\\nLogical Operators:\")\n",
        "print(\"(a == b or b > a)  :\", (a == b or b > a))   # True"
      ],
      "metadata": {
        "id": "3eNcC430QSsd"
      },
      "execution_count": null,
      "outputs": []
    },
    {
      "cell_type": "code",
      "source": [
        "a = 10\n",
        "b = 20\n",
        "c = 10\n",
        "\n",
        "print(\"\\nLogical Operators:\")\n",
        "print(\"not(a == b)        :\", not(a == b))         # True"
      ],
      "metadata": {
        "id": "0ERyuK3qQSdq"
      },
      "execution_count": null,
      "outputs": []
    }
  ]
}