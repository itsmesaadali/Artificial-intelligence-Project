{
  "nbformat": 4,
  "nbformat_minor": 0,
  "metadata": {
    "colab": {
      "provenance": [],
      "toc_visible": true,
      "authorship_tag": "ABX9TyPzrTsGcuAsYKB3LEeBSRV8",
      "include_colab_link": true
    },
    "kernelspec": {
      "name": "python3",
      "display_name": "Python 3"
    },
    "language_info": {
      "name": "python"
    }
  },
  "cells": [
    {
      "cell_type": "markdown",
      "metadata": {
        "id": "view-in-github",
        "colab_type": "text"
      },
      "source": [
        "<a href=\"https://colab.research.google.com/github/itsmesaadali/Artificial-intelligence-Project/blob/main/Lab_Task_3.ipynb\" target=\"_parent\"><img src=\"https://colab.research.google.com/assets/colab-badge.svg\" alt=\"Open In Colab\"/></a>"
      ]
    },
    {
      "cell_type": "markdown",
      "source": [
        "# AI Lab no 3"
      ],
      "metadata": {
        "id": "By2Y-CAU_jed"
      }
    },
    {
      "cell_type": "markdown",
      "source": [
        "1. Create a 3x3 matrix with values ranging from 2 to 10, convert array to a float type. Write a\n",
        "Python program to find the maximum and minimum value of flattened array."
      ],
      "metadata": {
        "id": "fTp4bdWnGsqQ"
      }
    },
    {
      "cell_type": "code",
      "execution_count": null,
      "metadata": {
        "colab": {
          "base_uri": "https://localhost:8080/"
        },
        "id": "8MHVaJaf_irK",
        "outputId": "571372b2-e1ef-4557-cbad-3cc4aec37381"
      },
      "outputs": [
        {
          "output_type": "stream",
          "name": "stdout",
          "text": [
            "3x3 Matrix:\n",
            "[[ 2.  3.  4.]\n",
            " [ 5.  6.  7.]\n",
            " [ 8.  9. 10.]]\n",
            "\n",
            "Flattened Array:  [ 2.  3.  4.  5.  6.  7.  8.  9. 10.]\n",
            "\n",
            "Maximum value: 10.0\n",
            "Minimum value: 2.0\n"
          ]
        }
      ],
      "source": [
        "import numpy as np\n",
        "\n",
        "# Step 1: Create a 3x3 matrix with values ranging from 2 to 10\n",
        "matrix = np.linspace(2, 10, 9) # 9 values evenly spaced from 2 to 10\n",
        "matrix = matrix.reshape(3, 3)  # 9 values evenly reshape\n",
        "matrix = matrix.astype(float)  # Step 2: Convert array to float type\n",
        "\n",
        "print(\"3x3 Matrix:\")\n",
        "print(matrix)\n",
        "\n",
        "# Step 3: Flatten the array\n",
        "flattened = matrix.flatten()\n",
        "print(\"\\nFlattened Array: \", flattened)\n",
        "\n",
        "# Step 4: Find maximum and minimum values\n",
        "max_value = flattened.max()\n",
        "min_value = flattened.min()\n",
        "\n",
        "print(\"\\nMaximum value:\", max_value)\n",
        "print(\"Minimum value:\", min_value)"
      ]
    }
  ]
}